{
  "nbformat": 4,
  "nbformat_minor": 0,
  "metadata": {
    "colab": {
      "provenance": [],
      "authorship_tag": "ABX9TyPMmaxUaBwtXLjVEouCHSMW"
    },
    "kernelspec": {
      "name": "python3",
      "display_name": "Python 3"
    },
    "language_info": {
      "name": "python"
    }
  },
  "cells": [
    {
      "cell_type": "code",
      "execution_count": null,
      "metadata": {
        "id": "dWy8EHx0gUYz"
      },
      "outputs": [],
      "source": []
    },
    {
      "cell_type": "markdown",
      "source": [
        "# Let's have some fun with code "
      ],
      "metadata": {
        "id": "Dj8aXelUgZdQ"
      }
    },
    {
      "cell_type": "markdown",
      "source": [
        "First, we have to connect to Kafka's broker. The broker is hosted as[ MSK Kafka AWS Service](https://aws.amazon.com/msk/)."
      ],
      "metadata": {
        "id": "o3mDGB-lgdDO"
      }
    }
  ]
}