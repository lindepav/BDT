{
 "cells": [
  {
   "cell_type": "code",
   "execution_count": null,
   "metadata": {
    "scrolled": true
   },
   "outputs": [],
   "source": [
    "##### Priklad 1: word count ------------------\n",
    "\n",
    "# nacteni RDD\n",
    "lines = sc.textFile(\"/user/pascepet/data/bible/bible.txt\")\n",
    "\n",
    "# rozdeleni radku\n",
    "words = lines.flatMap(lambda line: line.split(\" \"))\n",
    "\n",
    "# transformace radku na (key, value)\n",
    "pairs = words.map(lambda word: (word, 1))\n",
    "\n",
    "# secteni jednicek ke kazdemu klici\n",
    "counts = pairs.reduceByKey(lambda a, b: a + b)\n",
    "\n",
    "# vypis vysledku\n",
    "counts.take(5)\n"
   ]
  },
  {
   "cell_type": "code",
   "execution_count": null,
   "metadata": {},
   "outputs": [],
   "source": [
    "##### Priklad 2: vytazeni metadat z EXIF obrazku ------------\n",
    "\n",
    "# knihovny\n",
    "from PIL import Image\n",
    "from PIL.ExifTags import TAGS\n",
    "import StringIO\n",
    "\n",
    "# funkce na extrakci EXIF z binarnich dat\n",
    "def get_exif(str):\n",
    "    ret = {}\n",
    "    fn = StringIO.StringIO(str)\n",
    "    i = Image.open(fn)\n",
    "    info = i._getexif()\n",
    "    if info:\n",
    "        for tag, value in info.items():\n",
    "            decoded = TAGS.get(tag, tag)\n",
    "            ret[decoded] = value\n",
    "    return ret\n",
    "\n",
    "# funkce na transformaci dat EXIF\n",
    "def exif_data_transform(exif_data):\n",
    "    ret = {}\n",
    "    ret['datetime'] = exif_data['DateTime'] if exif_data.has_key('DateTime') else ''\n",
    "    ret['doba_expozice'] = exif_data['ExposureTime'][0] * 1.0 / exif_data['ExposureTime'][1] \\\n",
    "        if exif_data.has_key('ExposureTime') else 0.0\n",
    "    ret['sirka'] = exif_data['ExifImageWidth'] if exif_data.has_key('ExifImageWidth') else 0\n",
    "    ret['vyska'] = exif_data['ExifImageHeight'] if exif_data.has_key('ExifImageHeight') else 0\n",
    "    ret['orientace'] = exif_data['Orientation'] if exif_data.has_key('Orientation') else 1\n",
    "    return ret\n",
    "\n",
    "# nacteme z HDFS adresar s obrazky, vraci list dvojic (jmeno souboru, binarni kod)\n",
    "imgs = sc.binaryFiles('/user/pascepet/data/images/')\n",
    "\n",
    "# transformace: z obrazku se ponecha jen jmeno souboru a data EXIF jako dict tag-value\n",
    "imgs2 = imgs.map(lambda im: (im[0], get_exif(im[1])))\n",
    "\n",
    "# ... dalsi akce ...\n",
    "# napr. ponechani jen urcitych tagu a jejich uprava\n",
    "imgs3 = imgs2.map(lambda im: (im[0], exif_data_transform(im[1])))\n",
    "\n",
    "# ulozeni RDD na HDFS\n",
    "imgs3.saveAsTextFile('/user/pascepet/data/images_stat')"
   ]
  }
 ],
 "metadata": {
  "kernelspec": {
   "display_name": "Python 3",
   "language": "python",
   "name": "python3"
  },
  "language_info": {
   "codemirror_mode": {
    "name": "ipython",
    "version": 3
   },
   "file_extension": ".py",
   "mimetype": "text/x-python",
   "name": "python",
   "nbconvert_exporter": "python",
   "pygments_lexer": "ipython3",
   "version": "3.8.3"
  }
 },
 "nbformat": 4,
 "nbformat_minor": 4
}
