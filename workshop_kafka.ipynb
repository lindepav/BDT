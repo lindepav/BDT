{
  "nbformat": 4,
  "nbformat_minor": 0,
  "metadata": {
    "colab": {
      "provenance": [],
      "toc_visible": true,
      "mount_file_id": "1aWDpZjdB2OPNVa6DLA0Fn-Y3RnwlO85_",
      "authorship_tag": "ABX9TyNZQpKZNDgV4q/lmdnx4CN+",
      "include_colab_link": true
    },
    "kernelspec": {
      "name": "python3",
      "display_name": "Python 3"
    },
    "language_info": {
      "name": "python"
    }
  },
  "cells": [
    {
      "cell_type": "markdown",
      "metadata": {
        "id": "view-in-github",
        "colab_type": "text"
      },
      "source": [
        "<a href=\"https://colab.research.google.com/github/profinit/BDT/blob/workshop_kafka/workshop_kafka.ipynb\" target=\"_parent\"><img src=\"https://colab.research.google.com/assets/colab-badge.svg\" alt=\"Open In Colab\"/></a>"
      ]
    },
    {
      "cell_type": "markdown",
      "source": [
        "# Initial steps in Azure"
      ],
      "metadata": {
        "id": "1XfJ22pQdu-s"
      }
    },
    {
      "cell_type": "markdown",
      "source": [
        "Login to your azure students account https://azure.microsoft.com/cs-cz/free/students/ and create a resource, where you will host your services.\n",
        "\n",
        "\n",
        "![img](https://i.imgur.com/psNFWvl.png)\n",
        "\n"
      ],
      "metadata": {
        "id": "4gLB4WgAbaOa"
      }
    },
    {
      "cell_type": "markdown",
      "source": [
        "Create Databricks Workspace \n",
        "\n",
        "![img](https://i.imgur.com/L4prXMA.png)\n"
      ],
      "metadata": {
        "id": "-DguvAPtbnEY"
      }
    },
    {
      "cell_type": "markdown",
      "source": [
        "Select your newly created Dbx workspace, Launch, Sign in and voila.\n",
        "\n",
        "![img](https://i.imgur.com/TMS6y98.png)"
      ],
      "metadata": {
        "id": "T38OrJqwdr5U"
      }
    },
    {
      "cell_type": "markdown",
      "source": [
        "# Initial steps in Databricks"
      ],
      "metadata": {
        "id": "YKo238L0d3x9"
      }
    },
    {
      "cell_type": "markdown",
      "source": [
        "## Connect your GIT repo"
      ],
      "metadata": {
        "id": "FsehSiqkeqdy"
      }
    },
    {
      "cell_type": "markdown",
      "source": [
        "Generate personal access token from your git provider, see [github](https://docs.github.com/en/authentication/keeping-your-account-and-data-secure/creating-a-personal-access-token), [gitlab](https://docs.gitlab.com/ee/user/profile/personal_access_tokens.html)\n",
        "\n",
        "\n",
        "<img src='https://i.imgur.com/awugvC8.png' width=\"60%\" height=\"60%\">\n",
        "\n",
        "Navigate to Repos and add your repository; pull if anything present \n",
        "\n",
        "<img src='https://i.imgur.com/AM4s5pr.png'>\n"
      ],
      "metadata": {
        "id": "Wybkmki_jdvW"
      }
    },
    {
      "cell_type": "markdown",
      "source": [
        "## Create a cluster"
      ],
      "metadata": {
        "id": "BbJuTDxkgFUU"
      }
    },
    {
      "cell_type": "markdown",
      "source": [
        "Navigate to Computer and create desired cluster. Be reasonable with resources and termination time.\n",
        "\n",
        "For first runs and debug, single node is enough.\n",
        "\n",
        "![single node](https://i.imgur.com/tiIOqaC.png)\n",
        "\n",
        "Once you are sure with solution, you may test your solution on a stronger cluster with bigger amount of data.\n",
        "\n",
        "![create cluster](https://i.imgur.com/Orzkjeu.png)"
      ],
      "metadata": {
        "id": "FgiZ1k4cxsUj"
      }
    },
    {
      "cell_type": "markdown",
      "source": [
        "# Create a Notebook"
      ],
      "metadata": {
        "id": "tVSsvPUB10gO"
      }
    },
    {
      "cell_type": "markdown",
      "source": [
        "You can create either notebook, which is not connected to your repository, or create a Repo files, which you can git control. **We will use git controlled files.** GIT in Databricks environment has some limitations, eg. merging is not possible. \n",
        "\n",
        "***Repos/choose_your_repo/choose_your_branch/Create/Notebook***\n",
        "\n",
        "You can Create branch via *Git...* option or in git gui/console.\n",
        "\n",
        "When you want to use Databricks cluster and Databricks features, it is not neccessary to use Databricks GUI. It is also possible to use Visual Code, with simple Azure verification and Databricks plugin. Feel free to explore, but it is beyond this course.\n",
        "\n",
        "![Create a Notebook in Repo](https://i.imgur.com/6YsDCqF.png)"
      ],
      "metadata": {
        "id": "L-RtfRkx19ZA"
      }
    },
    {
      "cell_type": "markdown",
      "source": [
        "Once your Notebook is created, you are free to code and run it against cluster.\n",
        "\n",
        "Starting a cluster will take some time, few minutes.\n",
        "\n",
        "![Run Notebook](https://i.imgur.com/EHmbUVJ.png)"
      ],
      "metadata": {
        "id": "PEGumTdu5jW6"
      }
    },
    {
      "cell_type": "markdown",
      "source": [
        "# Let's get started with kafka"
      ],
      "metadata": {
        "id": "ldPK5fIs5nZL"
      }
    },
    {
      "cell_type": "markdown",
      "source": [
        "## Kafka brief review"
      ],
      "metadata": {
        "id": "v9V3vyjsPUw4"
      }
    },
    {
      "cell_type": "markdown",
      "source": [
        "Kafka is\n",
        "\n",
        "*   Scalable - distributed architecture capable of handling huge amount of incoming messages in high speed. \n",
        "*   High Throughput - Thousands messages per second, depends on the cluster.\n",
        "*   Low Latency - the latency = time take for a system to process a single event is under 10ms.\n",
        "*   Fault Tolerance - it is possible to use replication, which helps Kafka handle failures at nodesin the cluster. \n",
        "Durability - Kafka can persist data for desired amount of time.\n",
        "*   Reliability -  all of above makes Kafka very popular, the most used and reliable messaging system.\n",
        "\n",
        "Ability to handle real-time data: Kafka supports real-time data handling and is an excellent choice when data has to be processed in real-time.\n",
        "\n",
        "![kafka architecture](https://daxg39y63pxwu.cloudfront.net/images/blog/apache-kafka-architecture-/image_7224627121625733881346.png)\n",
        "\n",
        "\n",
        "**Broker**\n",
        "Broker works as a container that can hold multiple topics with different partitions.\n",
        "\n",
        "**Topic**\n",
        "Kafka stores its data in streams, called topics. Topics are append-only, immutable logs of events. Typically, events of the same type, or events that are in some way related, would go into the same topic.\n",
        "\n",
        "**Consumer**\n",
        "Can read/pull/subscribe present data from kafka topics.\n",
        "\n",
        "**Producer**\n",
        "Can write/push/publish new data to kafka topics."
      ],
      "metadata": {
        "id": "kIXN2ZKEPsbB"
      }
    }
  ]
}