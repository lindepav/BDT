{
  "nbformat": 4,
  "nbformat_minor": 0,
  "metadata": {
    "colab": {
      "provenance": [],
      "collapsed_sections": []
    },
    "kernelspec": {
      "name": "python3",
      "display_name": "Python 3"
    },
    "language_info": {
      "name": "python"
    }
  },
  "cells": [
    {
      "cell_type": "markdown",
      "source": [
       "Download and move the PID data\n"
      ],
      "metadata": {
        "id": "59oTmGtOI8x0"
      }
    },
    {
      "cell_type": "code",
      "source": [
        "$ hdfs dfs -mkdir -p hive_02/pid_gtfs\\\n",
        "$ hdfs dfs -put PID_GTFS/* hive_02/pid_gtfs\n",
        "$ hdfs dfs -ls hive_02/pid_gtfs"
      ],
      "metadata": {
        "id": "1oL7gozSIqTq"
      },
      "execution_count": null,
      "outputs": []
    },
    {
      "cell_type": "markdown",
      "source": [
        "Found 16 items\n",
        "\n",
        "-rw-r--r--   2 debian users        162 2022-10-25 09:00 hive_02/pid_gtfs/agency.txt\n",
        "\n",
        "-rw-r--r--   2 debian users      18706 2022-10-25 09:00 hive_02/pid_gtfs/calendar.txt\n",
        "\n",
        "-rw-r--r--   2 debian users     124035 2022-10-25 09:00 hive_02/pid_gtfs/calendar_dates.txt"
      ],
      "metadata": {
        "id": "IjgmDELAIyrC"
      }
    },
    {
      "cell_type": "markdown",
      "source": [
        "## 1.\n"
      ],
      "metadata": {
        "id": "suH4EA4_Ivtp"
      }
    },
    {
      "cell_type": "code",
      "source": [
        "$ hdfs dfs -mkdir -p ext_tables/routes\n",
        "$ hdfs dfs -cp hive_02/pid_gtfs/routes.txt ext_tables/routes"
      ],
      "metadata": {
        "id": "c_GXGtRlJNNE"
      },
      "execution_count": null,
      "outputs": []
    },
    {
      "cell_type": "code",
      "source": [
        "create external table route_ext,\n",
        "( \n",
        "route_id string, \n",
        "agency_id string, \n",
        "route_short_name string,\n",
        "route_long_name string,\n",
        "route_type string,\n",
        "route_url string,\n",
        "route_color string,\n",
        "route_text_color string,\n",
        "is_night boolean,\n",
        "is_regional boolean,\n",
        "is_substitute_transport boolean,\n",
        ")\n",
        "row format delimited\n",
        "fields terminated by ',',\n",
        "lines terminated by '\\n',\n",
        "stored as textfile,\n",
        "location '/user/debian/ext_tables/routes/',\n",
        "tblproperties (\"skip.header.line.count\" = \"1\");\n"
      ],
      "metadata": {
        "id": "MiJC9owbJgR2"
      },
      "execution_count": null,
      "outputs": []
    },
    {
      "cell_type": "code",
      "source": [
        "select * from route_ext limit 10;\n",
        "\n",
        "select count(*) from route_ext;\n",
        "\n",
        "select count(*) from route_ext where route_short_name is NULL;\n"
      ],
      "metadata": {
        "id": "IdRl73VnJo_3"
      },
      "execution_count": null,
      "outputs": []
    },
    {
      "cell_type": "markdown",
      "source": [
        "## 2."
      ],
      "metadata": {
        "id": "itkQG8uxKAoh"
      }
    },
    {
      "cell_type": "code",
      "source": [
        "create table route\n",
        "(\n",
        "route_id string,\n",
        "agency_id string,\n",
        "route_short_name string,\n",
        "route_long_name string,\n",
        "route_type string,\n",
        "route_url string,\n",
        "route_color string,\n",
        "route_text_color string,\n",
        "is_night boolean,\n",
        "is_regional boolean,\n",
        "is_substitute_transport boolean\n",
        ")\n",
        "stored as parquet\n",
        "tblproperties(\"parquet.compress\"=\"SNAPPY\");"
      ],
      "metadata": {
        "id": "yLxYgiXGJ2F8"
      },
      "execution_count": null,
      "outputs": []
    },
    {
      "cell_type": "code",
      "source": [
        "insert overwrite table route,\n",
        "select,\n",
        "route_id, agency_id, route_short_name, route_long_name, route_type,\n",
        "route_url, route_color, route_text_color, is_night, is_regional, is_substitute_transport,\n",
        "from route_ext;\n",
        "\n",
        "select * from route limit 10;\n",
        "\n",
        "select count(*) from route;"
      ],
      "metadata": {
        "id": "txEmqGZuKCuG"
      },
      "execution_count": null,
      "outputs": []
    },
    {
      "cell_type": "code",
      "source": [
        "hdfs dfs -du -s -h /user/hive/warehouse/debian.db  --result 74.4 K\n",
        "\n",
        "describe formatted route; --shows in bytes (76139)\n",
        "\n",
        "-- exteranl table size is 82.9K"
      ],
      "metadata": {
        "id": "7_kp-pQQKQu0"
      },
      "execution_count": null,
      "outputs": []
    },
    {
      "cell_type": "markdown",
      "source": [],
      "metadata": {
        "id": "JH8NHYoDKaME"
      }
    },
    {
      "cell_type": "markdown",
      "source": [],
      "metadata": {
        "id": "ckMOqkE1IjaJ"
      }
    }
  ]
}
