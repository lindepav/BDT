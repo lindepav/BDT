{
 "cells": [
  {
   "cell_type": "markdown",
   "metadata": {
    "id": "59oTmGtOI8x0"
   },
   "source": [
    "Download (wget), unzip (unzip) and move the PID data to HDFS.\n"
   ]
  },
  {
   "cell_type": "code",
   "execution_count": null,
   "metadata": {
    "id": "1oL7gozSIqTq"
   },
   "outputs": [],
   "source": [
    "$ hdfs dfs -mkdir -p hive_02/pid_gtfs\\\n",
    "$ hdfs dfs -put PID_GTFS/* hive_02/pid_gtfs\n",
    "$ hdfs dfs -ls hive_02/pid_gtfs"
   ]
  },
  {
   "cell_type": "markdown",
   "metadata": {
    "id": "IjgmDELAIyrC"
   },
   "source": [
    "Found 16 items\n",
    "\n",
    "-rw-r--r--   2 debian users        162 2022-10-25 09:00 hive_02/pid_gtfs/agency.txt\n",
    "\n",
    "-rw-r--r--   2 debian users      18706 2022-10-25 09:00 hive_02/pid_gtfs/calendar.txt\n",
    "\n",
    "-rw-r--r--   2 debian users     124035 2022-10-25 09:00 hive_02/pid_gtfs/calendar_dates.txt"
   ]
  },
  {
   "cell_type": "markdown",
   "metadata": {
    "id": "suH4EA4_Ivtp"
   },
   "source": [
    "## 1.\n"
   ]
  },
  {
   "cell_type": "markdown",
   "metadata": {
    "id": "OmuuGUA6x9LC"
   },
   "source": [
    "Check all present databases. Create your own AND use already created via `USE` command.\n",
    "\n",
    "If your want to be sure, that you are always using crrect DB, you must provide full path, such as `SELECT * FROM jnovak.route LIMIT 10;`"
   ]
  },
  {
   "cell_type": "code",
   "execution_count": null,
   "metadata": {
    "id": "UnhQOL2ayFyV"
   },
   "outputs": [],
   "source": [
    "SHOW DATABASES;\n",
    "CREATE DATABASE <your_user_name_db>;\n",
    "USE your_user_name_db;"
   ]
  },
  {
   "cell_type": "code",
   "execution_count": null,
   "metadata": {
    "id": "dcL3dWarybSF"
   },
   "outputs": [],
   "source": []
  },
  {
   "cell_type": "markdown",
   "metadata": {
    "id": "6CQhT9nhxiML"
   },
   "source": [
    "Create a folder for external tables, you will create."
   ]
  },
  {
   "cell_type": "code",
   "execution_count": null,
   "metadata": {
    "id": "c_GXGtRlJNNE"
   },
   "outputs": [],
   "source": [
    "$ hdfs dfs -mkdir -p hive_02/ext_tables/routes\n",
    "$ hdfs dfs -cp hive_02/pid_gtfs/routes.txt hive_02/ext_tables/routes"
   ]
  },
  {
   "cell_type": "markdown",
   "metadata": {
    "id": "-aTL5Graxm9x"
   },
   "source": [
    "Create an external table for routes.txt"
   ]
  },
  {
   "cell_type": "code",
   "execution_count": null,
   "metadata": {
    "id": "MiJC9owbJgR2"
   },
   "outputs": [],
   "source": [
    "create external table route_ext\n",
    "(\n",
    "route_id string,\n",
    "agency_id string,\n",
    "route_short_name string,\n",
    "route_long_name string,\n",
    "route_type string,\n",
    "route_url string,\n",
    "route_color string,\n",
    "route_text_color string,\n",
    "is_night boolean,\n",
    "is_regional boolean,\n",
    "is_substitute_transport boolean\n",
    ")\n",
    "row format delimited\n",
    "fields terminated by ','\n",
    "lines terminated by '\\n'\n",
    "stored as textfile\n",
    "location '/user/debian/hive_02/ext_tables/routes/'\n",
    "tblproperties (\"skip.header.line.count\" = \"1\");\n"
   ]
  },
  {
   "cell_type": "markdown",
   "metadata": {
    "id": "reQsXqoUxs4j"
   },
   "source": [
    "Checkout the data and do some basic queries."
   ]
  },
  {
   "cell_type": "code",
   "execution_count": null,
   "metadata": {
    "id": "IdRl73VnJo_3"
   },
   "outputs": [],
   "source": [
    "select * from route_ext limit 10;\n",
    "\n",
    "select count(*) from route_ext;\n",
    "\n",
    "select count(*) from route_ext where route_short_name is NULL;\n"
   ]
  },
  {
   "cell_type": "markdown",
   "metadata": {
    "id": "itkQG8uxKAoh"
   },
   "source": [
    "## 2."
   ]
  },
  {
   "cell_type": "markdown",
   "metadata": {
    "id": "JbLP4vVuxzCA"
   },
   "source": [
    "Create Hive Managed table with final datatypes and other properties."
   ]
  },
  {
   "cell_type": "code",
   "execution_count": null,
   "metadata": {
    "id": "yLxYgiXGJ2F8"
   },
   "outputs": [],
   "source": [
    "create table route\n",
    "(\n",
    "route_id string,\n",
    "agency_id string,\n",
    "route_short_name string,\n",
    "route_long_name string,\n",
    "route_type string,\n",
    "route_url string,\n",
    "route_color string,\n",
    "route_text_color string,\n",
    "is_night boolean,\n",
    "is_regional boolean,\n",
    "is_substitute_transport boolean\n",
    ")\n",
    "stored as parquet\n",
    "tblproperties(\"parquet.compress\"=\"SNAPPY\");"
   ]
  },
  {
   "cell_type": "markdown",
   "metadata": {
    "id": "9PF6tkJ7x6GV"
   },
   "source": [
    "Fill in the final route table."
   ]
  },
  {
   "cell_type": "code",
   "execution_count": null,
   "metadata": {
    "id": "txEmqGZuKCuG"
   },
   "outputs": [],
   "source": [
    "insert overwrite table route \n",
    "select\n",
    "route_id, agency_id, route_short_name, route_long_name, route_type,\n",
    "route_url, route_color, route_text_color, is_night, is_regional, is_substitute_transport\n",
    "from route_ext;\n"
   ]
  },
  {
   "cell_type": "markdown",
   "metadata": {
    "id": "QrjRY5woyx0B"
   },
   "source": [
    "Do some simple queries.\n",
    "\n",
    "Is the NULL count same for external and internal table?"
   ]
  },
  {
   "cell_type": "code",
   "execution_count": null,
   "metadata": {
    "id": "45vY0sBLy3FQ"
   },
   "outputs": [],
   "source": [
    "select * from route limit 10;\n",
    "\n",
    "select count(*) from route;\n",
    "\n",
    "select count(*) from route where route_short_name is NULL; "
   ]
  },
  {
   "cell_type": "code",
   "execution_count": null,
   "metadata": {
    "id": "7_kp-pQQKQu0"
   },
   "outputs": [],
   "source": [
    "hdfs dfs -du -s -h /user/hive/warehouse/debian.db  --result 74.4 K\n",
    "\n",
    "describe formatted route; --shows in bytes (76139)\n",
    "\n",
    "-- exteranl table size is 82.9K"
   ]
  },
  {
   "cell_type": "markdown",
   "metadata": {
    "id": "JH8NHYoDKaME"
   },
   "source": [
    "## 3.1 a 3.2."
   ]
  },
  {
   "cell_type": "markdown",
   "metadata": {
    "id": "cC5AJdDVy_bq"
   },
   "source": [
    "Create and exteerna table `stop_times_ext`"
   ]
  },
  {
   "cell_type": "code",
   "execution_count": null,
   "metadata": {
    "id": "FtRdrO1E1eYB"
   },
   "outputs": [],
   "source": [
    "create external table stop_times_ext\n",
    "    (\n",
    "    trip_id string,\n",
    "    arrival_time string,\n",
    "    departure_time string,\n",
    "    stop_id string,\n",
    "    stop_sequence string,\n",
    "    stop_headsign string,\n",
    "    pickup_type string,\n",
    "    drop_off_type string,\n",
    "    shape_dist_traveled string,\n",
    "    trip_operation_type string,\n",
    "    bikes_allowed string\n",
    "    )\n",
    "    row format delimited\n",
    "    fields terminated by ','\n",
    "    lines terminated by '\\n'\n",
    "    stored as textfile\n",
    "    location '/user/debian/hive_02/ext_tables/stop_times/'\n",
    "    tblproperties (\"skip.header.line.count\"=\"1\");"
   ]
  },
  {
   "cell_type": "markdown",
   "metadata": {
    "id": "HVOKvS-xwz2Y"
   },
   "source": [
    "Create a different order of columns than in original CSV file, because hive takes the last column as partition\n",
    "\n",
    "It is not possible to select as table to an external table and partitioned table.\n",
    "Unfortunatelly, there is an issue with Parque and partitioning with current old version of Hive on metacentrum Hadoop, so use Hive ORC while creating tables.\n",
    "There is also an options `set hive.default.fileformat=orc`\n",
    "\n",
    "\n",
    "*   *What is default hive format?* \n",
    "*   *What are pros/cons of this format?*\n",
    "*   *What are pros/cons of other formats?*\n",
    "\n",
    "\n",
    "\n",
    "\n"
   ]
  },
  {
   "cell_type": "code",
   "execution_count": null,
   "metadata": {
    "id": "Iu1sNf9lw9bw"
   },
   "outputs": [],
   "source": [
    "CREATE TABLE IF NOT EXISTS stop_times_ext_correct\n",
    "STORED AS ORC\n",
    "AS SELECT \n",
    "    arrival_time ,\n",
    "    departure_time ,\n",
    "    stop_id ,\n",
    "    stop_sequence ,\n",
    "    stop_headsign ,\n",
    "    pickup_type ,\n",
    "    drop_off_type ,\n",
    "    shape_dist_traveled ,\n",
    "    trip_operation_type ,\n",
    "    bikes_allowed ,\n",
    "    trip_id \n",
    " from stop_times_ext;"
   ]
  },
  {
   "cell_type": "markdown",
   "metadata": {
    "id": "jiBbvU76xJoH"
   },
   "source": [
    "Create the final table with correct datatypes and partition as a last column as well"
   ]
  },
  {
   "cell_type": "code",
   "execution_count": null,
   "metadata": {
    "id": "A1zxI1ByxRL3"
   },
   "outputs": [],
   "source": [
    "create table stop_times\n",
    "    (\n",
    "    arrival_time string,\n",
    "    departure_time string,\n",
    "    stop_id string,\n",
    "    stop_sequence string,\n",
    "    stop_headsign string,\n",
    "    pickup_type string,\n",
    "    drop_off_type string,\n",
    "    shape_dist_traveled string,\n",
    "    trip_operation_type string,\n",
    "    bikes_allowed boolean\n",
    "    )\n",
    "    partitioned by (trip_id string)\n",
    "    STORED AS ORC;"
   ]
  },
  {
   "cell_type": "markdown",
   "metadata": {
    "id": "RxEKh0jdzJe1"
   },
   "source": [
    "Verify tables via `DESCRIBE` command."
   ]
  },
  {
   "cell_type": "code",
   "execution_count": null,
   "metadata": {
    "id": "44cldBIVzOPU"
   },
   "outputs": [],
   "source": [
    "DESCRIBE stop_times;"
   ]
  },
  {
   "cell_type": "markdown",
   "metadata": {
    "id": "m6bOl_iog2tK"
   },
   "source": [
    "\n",
    "![image.png](data:image/png;base64,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)"
   ]
  },
  {
   "cell_type": "markdown",
   "metadata": {
    "id": "ZODUzTwGxT5f"
   },
   "source": [
    "Fill in the data from the correctly ordered table."
   ]
  },
  {
   "cell_type": "code",
   "execution_count": null,
   "metadata": {
    "id": "l4jz6oV2hNob"
   },
   "outputs": [],
   "source": [
    "set hive.exec.dynamic.partition=true;\n",
    "set hive.exec.dynamic.partition.mode=nonstrict;\n"
   ]
  },
  {
   "cell_type": "code",
   "execution_count": null,
   "metadata": {
    "id": "_FjSbhOiLt-e"
   },
   "outputs": [],
   "source": [
    "insert overwrite table stop_times partition (trip_id)\n",
    "select\n",
    "arrival_time, departure_time, stop_id, stop_sequence,\n",
    "stop_headsign, pickup_type, drop_off_type, shape_dist_traveled, trip_operation_type, bikes_allowed,\n",
    "substr(trip_id,1,1) as trip_id\n",
    "from stop_times_ext_correct;\n"
   ]
  },
  {
   "cell_type": "markdown",
   "metadata": {},
   "source": [
    "## 4. Inquiry over Hive\n",
    "Work with the *route* and *stop_times_part* table.\n",
    "\n",
    "4.1 Find out how many unique routes are there. *(810)*\n",
    "select count(1) from route;\n",
    "\n",
    "4.2 Find out the lowest and highest route number are there. *(1, 996)*\n",
    " \n",
    "select min(route_id), max(route_id) from route  ;\n",
    "\n",
    "4.3 Find out the longest and the shortest route. *(730,1723)*\n",
    "select max(cast (shape_dist_traveled as int)) route,substr(trip_id, 1,instr(trip_id, '_')-1) from stop_times_part group by substr(trip_id, 1,instr(trip_id, '_')-1) order by route desc limit 1;\n",
    "\n",
    "4.4 Find out the route with most and least stops. *(908,1803)*\n",
    "select max(cast (stop_sequence as int)) as stop, substr(trip_id, 1,instr(trip_id, '_')-1) from stop_times_part group by substr(trip_id, 1,instr(trip_id, '_')-1) order by stop desc limit 1;\n",
    "\n",
    "4.5 Find out the longest regional and night route. *(tbd)*\n",
    "\n",
    "4.6 Find out two stops with maximum and minimum distance between. *(U9443Z4 U897Z63, U32044Z1  U32043Z1 ) *\n",
    " select stop_id, lag (stop_id) over (partition by trip_id order by cast (stop_sequence as int)), (cast(shape_dist_traveled as float)-cast( lag (shape_dist_traveled) over (partition by trip_id order by cast (stop_sequence as int)) as float)) as dist, trip_id,stop_sequence  from stop_times_part order by dist desc limit 10;\n",
    "4.7 Find out the average speed for route L1, L170 and L991.  *(tbd)*"
   ]
  }
 ],
 "metadata": {
  "colab": {
   "collapsed_sections": [],
   "provenance": [],
   "toc_visible": true
  },
  "kernelspec": {
   "display_name": "Python 3",
   "name": "python3"
  },
  "language_info": {
   "name": "python"
  }
 },
 "nbformat": 4,
 "nbformat_minor": 0
}