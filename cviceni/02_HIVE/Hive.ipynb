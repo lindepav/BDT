{
 "cells": [
  {
   "cell_type": "markdown",
   "source": [
    "Cílem supercvičení je vyzkoušet si:\n",
    "* jak dostat data do Hadoopu\n",
    "* různé způsoby uložení dat v Hive (partitioning, formát, komprese)\n",
    "* SQL dotazování nad velkými daty"
   ],
   "metadata": {}
  },
  {
   "cell_type": "markdown",
   "source": [
    "## Nahrání dat do Hadoopu\r\n",
    "Budeme pracovat se záznamy o průměrných teplotách na meteorologických stanicích v USA. Soubor s daty je uložen na HDFS:  \r\n",
    "`/tmp/fel_bigdata/teplota-usa.zip`\r\n",
    "Potřebujeme tato data dostat na Hadoop (tj. na HDFS). Tedy:  \r\n",
    "* zkopírujte data z HDFS do svého uživatelského adresáře (doporučuji si na to vytvořit podadresář);\r\n",
    "* rozbalte;\r\n",
    "* prohlédněte si několik řádků rozbalených dat a zjistěte počet řádků celkem (a zkuste si odpovědět na otázku, proč je dobré to udělat);\r\n",
    "* vytvořte na HDFS ve svém uživatelském adresáři vhodný podadresář (stejná otázka jako výše &ndash; proč?);\r\n",
    "* rozbalené soubory nakopírujte na HDFS do nově vytvořeného adresáře."
   ],
   "metadata": {}
  },
  {
   "cell_type": "markdown",
   "source": [
    "## Spuštění Hive konzoly\r\n",
    "Spustíme Hive z příkazové řádky.\r\n",
    "\r\n",
    "`beeline -u \"jdbc:hive2://hador-c1.ics.muni.cz:10000/$DATABAZE;principal=hive/hador-c1.ics.muni.cz@ICS.MUNI.CZ\"`\r\n",
    "\r\n",
    "Pokud jste dosud nezaložili svou databázi Hive, vytvořte ji (jméno databáze zadejte jako své uživatelské jméno) a přepněte se do ní. Příkazy Hive je třeba ukončovat středníkem!"
   ],
   "metadata": {}
  },
  {
   "cell_type": "markdown",
   "source": [
    "## 1. Vstupní data jako externí tabulka\n",
    "1.1. Ze souborů nahraných v předchozím kroku na HDFS vytvořte externí tabulku *teplota_ext*. (Externí tabulka používá strukturu dat tak, jak jsou, v tomto kroku se žádné změny formátu apod. neprovádějí.)\n",
    "  * CSV (text) formát\n",
    "  * oddělovač polí je znak \",\"\n",
    "  * oddělovač záznamů je znak ukončení řádky\n",
    "  * první řádek obsahuje hlavičky a přeskočí se\n",
    "  * soubor obsahuje tato pole:\n",
    "\n",
    "| Pole        | Typ       | Popis                                      |\n",
    "|-------------|-----------|--------------------------------------------|\n",
    "| stanice     | string    | kód stanice                                |\n",
    "| mesic       | int       | číslo měsíce                               |\n",
    "| den         | int       | číslo dne v měsíci                         |\n",
    "| hodina      | int       | číslo hodiny (1&ndash;24)                  |\n",
    "| teplota     | int       | průměrná teplota, round(10&times;&deg;F)   |\n",
    "| flag        | string    | kód úplnosti dat                           |\n",
    "| latitude    | double    | GPS zeměpisná šířka (záporné = jižní)      |\n",
    "| longitude   | double    | GPS zeměpisná délka (záporné = západní)    |\n",
    "| vyska       | double    | nadmořská výška v metrech                  |\n",
    "| stat        | string    | kód státu (vč. zámořských území)           |\n",
    "| nazev       | string    | název stanice                              |\n",
    "\n",
    "1.2. S externí tabulkou lze provádět SQL dotazy. Udělejte kontrolu:\n",
    "  * výpis několika řádků tabulky *teplota_ext* a porovnání se vstupními daty;\n",
    "  * celkový počet řádků a porovnání se vstupními daty (neměl by být přesně stejný &ndash; proč?);\n",
    "  * počet řádků s hodnotami NULL u pole *teplota* (měl by být jen malá část z celkového počtu řádků)."
   ],
   "metadata": {}
  },
  {
   "cell_type": "markdown",
   "source": [
    "## 2. Převod do optimalizované tabulky\n",
    "\n",
    "2.1. Vytvořte si prázdnou interní (managed) tabulku *teplota*, ve které budou data uložena ve vhodnějším formátu a zkomprimovaná:\n",
    "  * formát parquet\n",
    "  * bez partitioningu\n",
    "  * komprese snappy (je nutno zadat velkými písmeny SNAPPY)\n",
    "  * všechna pole budou stejná s výjimkou teploty -- budeme ji v této tabulce ukládat ve stupních Celsia, tj. jako desetinné číslo\n",
    "\n",
    "2.2. Vložte do tabulky *teplota* data z tabulky *teplota_ext*:\n",
    "  * přepočtěte správně teplotu z 10&times;&deg;F na &deg;C;\n",
    "  * ostatní pole převeďte beze změny.\n",
    "\n",
    "2.3. Udělejte kontrolu tabulky *teplota*:\n",
    "  * Vypište si několik řádků.\n",
    "  * Zjistěte počet záznamů v tabulce *teplota* a porovnejte s počtem záznamů v tabulce *teplota_ext*.\n",
    "\n",
    "2.4. Tabulka *teplota* je interní, a tedy jejím vlastníkem je Hive.\n",
    "  * Najděte ji na HDFS pod `/user/hive/warehouse/jmeno_vasi_databaze.db` a zjistěte její velikost (počet MB).\n",
    "  * Porovnejte velikost s velikostí externí tabulky (vámi nahraná data na HDFS, viz výše).\n",
    "\n",
    "2.5. Zrušte v Hive externí tabulku *teplota_ext* (příkaz DROP TABLE). Prověřte, že tabulka sice již ve vaší databázi není, ale data na HDFS stále jsou."
   ],
   "metadata": {}
  },
  {
   "cell_type": "markdown",
   "source": [
    "## 3. Tabulka s partitions\n",
    "3.1. Vytvořte si prázdnou interní (managed) tabulku *teplota_part*, která bude stejná jako tabulka *teplota* (tj. pole, jejich typy, formát, komprese), ale bude mít navíc partitioning podle měsíce. (Pozor na pořadí polí!)\n",
    "\n",
    "3.2. Do tabulky *teplota_part* zkopírujte data z tabulky *teplota*, při kopírování vytvořte dynamický partitioning podle měsíce. Dynamický partitioning je potřeba předem povolit pomocí příkazů:  \n",
    "```\n",
    "set hive.exec.dynamic.partition=true;\n",
    "set hive.exec.dynamic.partition.mode=nonstrict;\n",
    "```\n",
    "\n",
    "3.3. Najděte tabulku *teplota_part* na HDFS pod `/user/hive/warehouse/jmeno_vasi_databaze.db` a prohlédněte si, jak je partitioning realizován."
   ],
   "metadata": {}
  },
  {
   "cell_type": "markdown",
   "source": [
    "## 4. Dotazování nad Hive\n",
    "Pracujte s tabulkou *teplota* nebo *teplota_part* (mají stejný obsah liší se jen použitým partitioningem).\n",
    "\n",
    "4.1. Kolik unikátních stanic je v datech? *(457)*\n",
    "\n",
    "4.2. Která stanice je nejsevernější? *(USW00027502, BARROW POST ROGERS AP)*\n",
    "\n",
    "4.3. Který stát má nejvíc unikátních stanic? *(TX)*\n",
    "\n",
    "4.4. Kolik hodinových údajů celkem je na některé ze stanic v severní Dakotě (ND) nižších než &minus;10&deg;C? *(8&nbsp;446)*\n",
    "\n",
    "4.5. Který stát má nejvyšší celkovou průměrnou teplotu na svých stanicích za letní měsíce (6, 7, 8)? *(MH, 28.1)*\n",
    "\n",
    "4.6. Které všechny státy mají rozdíl zeměpisných šířek (longitude) mezi svou nejzápadnější a nejvýchodnější stanicí větší než 8 stupňů? *(AK, FM, MT, TX)*\n",
    "\n",
    "4.7. Pro každou stanici s nadmořskou výškou nad 1&nbsp;500&nbsp;metrů zjistěte rozdíl mezi celkovou průměrnou teplotou stanice (za celý rok) a celkovou průměrnou teplotou státu, kam stanice patří.\n",
    "\n",
    "| stanice     | rozdil             |\n",
    "|:------------|-------------------:|\n",
    "| USW00003103 | -9.732538702083291 |\n",
    "| USW00023225 | -4.890214469033042 |\n",
    "| ...         | ...                |\n",
    "\n",
    "*(celkem 20 stanic)*"
   ],
   "metadata": {}
  }
 ],
 "metadata": {
  "kernelspec": {
   "display_name": "Python 3",
   "language": "python",
   "name": "python3"
  },
  "language_info": {
   "codemirror_mode": {
    "name": "ipython",
    "version": 3
   },
   "file_extension": ".py",
   "mimetype": "text/x-python",
   "name": "python",
   "nbconvert_exporter": "python",
   "pygments_lexer": "ipython3",
   "version": "3.8.3"
  }
 },
 "nbformat": 4,
 "nbformat_minor": 2
}