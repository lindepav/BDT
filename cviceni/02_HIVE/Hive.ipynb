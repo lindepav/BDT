{
	"cells": [{
			"cell_type": "markdown",
			"metadata": {},
			"source": [
				"Cílem supercvičení je vyzkoušet si:\n",
				"* jak dostat data do Hadoopu\n",
				"* různé způsoby uložení dat v Hive (partitioning, formát, komprese)\n",
				"* SQL dotazování nad velkými daty"
			]
		},
		{
			"cell_type": "markdown",
			"metadata": {},
			"source": [
				"```\n",

				"$ hdfs dfs -mkdir -p hive_02/pid_gtfs\n",
				"$ hdfs dfs -put PID_GTFS/* hive_02/pid_gtfs\n",
				"$ hdfs dfs -ls hive_02/pid_gtfs\n",
				"```\n",

				"Found 16 items\n",
				"-rw-r--r--   2 debian users        162 2022-10-25 09:00 hive_02/pid_gtfs/agency.txt\n",
				"-rw-r--r--   2 debian users      18706 2022-10-25 09:00 hive_02/pid_gtfs/calendar.txt\n",
				"-rw-r--r--   2 debian users     124035 2022-10-25 09:00 hive_02/pid_gtfs/calendar_dates.txt\n",
				"...\n",

				"## 1.\n",
				"```\n",
				"$ hdfs dfs -mkdir -p ext_tables/routes\n",
				"$ hdfs dfs -cp hive_02/pid_gtfs/routes.txt ext_tables/routes\n",
				"\n",

				"create external table route_ext\n",
				"( \n",
				"route_id string, \n",
				"agency_id string, \n",
				"route_short_name string,\n",
				"route_long_name string,\n",
				"route_type string,\n",
				"route_url string,\n",
				"route_color string,\n",
				"route_text_color string,\n",
				"is_night boolean,\n",
				"is_regional boolean,\n",
				"is_substitute_transport boolean\n",
				")\n",
				"row format delimited\n",
				"fields terminated by \',\'\n",
				"lines terminated by \'\n\'\n",
				"stored as textfile\n",
				"location \'/user/debian/ext_tables/routes/\'\n",
				"tblproperties (\"skip.header.line.count\" = \"1\"); n",

				"\n ",
				"select * from route_ext limit 10;\n ",

				"select count(*) from route_ext;\n",

				"\n ",
				"select count(*) from route_ext where route_short_name is NULL; \n ",

				"## 2.\n ",
				"create table route\n",
				"(\n",
				"route_id string,\n",
				"agency_id string,\n",
				"route_short_name string,\n",
				"route_long_name string,\n",
				"route_type string,\n",
				"route_url string,\n",
				"route_color string,\n",
				"route_text_color string,\n",
				"is_night boolean,\n",
				"is_regional boolean,\n",
				"is_substitute_transport boolean\n",
				")\n",
				"stored as parquet\n",
				"tblproperties(\"parquet.compress\"=\"SNAPPY\");\n",
				"\n",

				"insert overwrite table route\n",
				"select\n",
				"route_id, agency_id, route_short_name, route_long_name, route_type,\n",
				"route_url, route_color, route_text_color, is_night, is_regional, is_substitute_transport\n",
				"from route_ext;\n",
				"select * from route limit 10; \n ",
				"select count(*) from route;\n",

				"```\n",
				"hdfs dfs -du -s -h /user/hive/warehouse/debian.db (result 74.4 K)\n",
				"-- nebo\n",
				"describe formatted route; -- shows in bytes (76139)\n",
				"```\n",
				"-- exteranl table size is 82.9K\n",


				" ##3. \n",
				"```\n ",
				" hdfs dfs -mkdir ext_tables/stop_times \n",
				" hdfs dfs -cp hive_02/pid_gtfs/stop_times.txt ext_tables/stop_times \n",
				"```\n"

			]
		}
	],
	"metadata": {
		"kernelspec": {
			"display_name": "Python 3",
			"language": "python",
			"name": "python3"
		},
		"language_info": {
			"codemirror_mode": {
				"name": "ipython",
				"version": 3
			},
			"file_extension": ".py",
			"mimetype": "text/x-python",
			"name": "python",
			"nbconvert_exporter": "python",
			"pygments_lexer": "ipython3",
			"version": "3.8.3"
		}
	},
	"nbformat": 4,
	"nbformat_minor": 2
}
