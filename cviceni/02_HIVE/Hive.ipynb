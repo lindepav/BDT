{
 "cells": [
  {
   "cell_type": "markdown",
   "metadata": {},
   "source": [
    "Cílem supercvičení je vyzkoušet si:\n",
    "* jak dostat data do Hadoopu\n",
    "* různé způsoby uložení dat v Hive (partitioning, formát, komprese)\n",
    "* SQL dotazování nad velkými daty"
   ]
  },
  {
   "cell_type": "markdown",
   "metadata": {},
   "source": [
    "```
    
    $ hdfs dfs -mkdir -p hive_02/pid_gtfs

$ hdfs dfs -put PID_GTFS/* hive_02/pid_gtfs

$ hdfs dfs -ls hive_02/pid_gtfs
Found 16 items
-rw-r--r--   2 debian users        162 2022-10-25 09:00 hive_02/pid_gtfs/agency.txt
-rw-r--r--   2 debian users      18706 2022-10-25 09:00 hive_02/pid_gtfs/calendar.txt
-rw-r--r--   2 debian users     124035 2022-10-25 09:00 hive_02/pid_gtfs/calendar_dates.txt
...

1.
$ hdfs dfs -mkdir -p ext_tables/routes
$ hdfs dfs -cp hive_02/pid_gtfs/routes.txt ext_tables/routes


create external table route_ext
    (
    route_id string,
    agency_id string,
    route_short_name string,
    route_long_name string,
    route_type string,
    route_url string,
    route_color string,
    route_text_color string,
    is_night boolean,
    is_regional boolean,
    is_substitute_transport boolean
    )
    row format delimited
    fields terminated by ','
    lines terminated by '\n'
    stored as textfile
    location '/user/debian/ext_tables/routes/'
    tblproperties ("skip.header.line.count"="1");


select * from route_ext limit 10;


select count(*) from route_ext;


select count(*) from route_ext where route_short_name is NULL;


2.
create table route
    (
    route_id string,
    agency_id string,
    route_short_name string,
    route_long_name string,
    route_type string,
    route_url string,
    route_color string,
    route_text_color string,
    is_night boolean,
    is_regional boolean,
    is_substitute_transport boolean
    )
    stored as parquet
    tblproperties("parquet.compress"="SNAPPY");


insert overwrite table route
select
route_id, agency_id, route_short_name, route_long_name, route_type,
route_url, route_color, route_text_color, is_night, is_regional, is_substitute_transport
from route_ext;


select * from route limit 10;


select count(*) from route;


hdfs dfs -du -s -h /user/hive/warehouse/debian.db (result 74.4 K)
nebo
describe formatted route; -- shows in bytes (76139)

exteranl table size is 82.9K


3. 
hdfs dfs -mkdir ext_tables/stop_times
hdfs dfs -mkdir ext_tables/stop_times
hdfs dfs -cp hive_02/pid_gtfs/stop_times.txt ext_tables/stop_times



    ```"

    
   ]
  }
 ],
 "metadata": {
  "kernelspec": {
   "display_name": "Python 3",
   "language": "python",
   "name": "python3"
  },
  "language_info": {
   "codemirror_mode": {
    "name": "ipython",
    "version": 3
   },
   "file_extension": ".py",
   "mimetype": "text/x-python",
   "name": "python",
   "nbconvert_exporter": "python",
   "pygments_lexer": "ipython3",
   "version": "3.8.3"
  }
 },
 "nbformat": 4,
 "nbformat_minor": 2
}
