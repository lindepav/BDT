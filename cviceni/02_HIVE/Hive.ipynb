{
  "nbformat": 4,
  "nbformat_minor": 0,
  "metadata": {
    "colab": {
      "provenance": [],
      "collapsed_sections": [],
      "toc_visible": true
    },
    "kernelspec": {
      "name": "python3",
      "display_name": "Python 3"
    },
    "language_info": {
      "name": "python"
    }
  },
  "cells": [
    {
      "cell_type": "markdown",
      "source": [
        "Download (wget), unzip (unzip) and move the PID data to HDFS.\n"
      ],
      "metadata": {
        "id": "59oTmGtOI8x0"
      }
    },
    {
      "cell_type": "code",
      "source": [
        "$ hdfs dfs -mkdir -p hive_02/pid_gtfs\\\n",
        "$ hdfs dfs -put PID_GTFS/* hive_02/pid_gtfs\n",
        "$ hdfs dfs -ls hive_02/pid_gtfs"
      ],
      "metadata": {
        "id": "1oL7gozSIqTq"
      },
      "execution_count": null,
      "outputs": []
    },
    {
      "cell_type": "markdown",
      "source": [
        "Found 16 items\n",
        "\n",
        "-rw-r--r--   2 debian users        162 2022-10-25 09:00 hive_02/pid_gtfs/agency.txt\n",
        "\n",
        "-rw-r--r--   2 debian users      18706 2022-10-25 09:00 hive_02/pid_gtfs/calendar.txt\n",
        "\n",
        "-rw-r--r--   2 debian users     124035 2022-10-25 09:00 hive_02/pid_gtfs/calendar_dates.txt"
      ],
      "metadata": {
        "id": "IjgmDELAIyrC"
      }
    },
    {
      "cell_type": "markdown",
      "source": [
        "## 1.\n"
      ],
      "metadata": {
        "id": "suH4EA4_Ivtp"
      }
    },
    {
      "cell_type": "markdown",
      "source": [
        "Check all present databases. Create your own AND use already created via `USE` command.\n",
        "\n",
        "If your want to be sure, that you are always using crrect DB, you must provide full path, such as `SELECT * FROM jnovak.route LIMIT 10;`"
      ],
      "metadata": {
        "id": "OmuuGUA6x9LC"
      }
    },
    {
      "cell_type": "code",
      "source": [
        "SHOW DATABASES;\n",
        "CREATE DATABASE <your_user_name_db>;\n",
        "USE your_user_name_db;"
      ],
      "metadata": {
        "id": "UnhQOL2ayFyV"
      },
      "execution_count": null,
      "outputs": []
    },
    {
      "cell_type": "code",
      "source": [],
      "metadata": {
        "id": "dcL3dWarybSF"
      },
      "execution_count": null,
      "outputs": []
    },
    {
      "cell_type": "markdown",
      "source": [
        "Create a folder for external tables, you will create."
      ],
      "metadata": {
        "id": "6CQhT9nhxiML"
      }
    },
    {
      "cell_type": "code",
      "source": [
        "$ hdfs dfs -mkdir -p hive_02/ext_tables/routes\n",
        "$ hdfs dfs -cp hive_02/pid_gtfs/routes.txt hive_02/ext_tables/routes"
      ],
      "metadata": {
        "id": "c_GXGtRlJNNE"
      },
      "execution_count": null,
      "outputs": []
    },
    {
      "cell_type": "markdown",
      "source": [
        "Create an external table for routes.txt"
      ],
      "metadata": {
        "id": "-aTL5Graxm9x"
      }
    },
    {
      "cell_type": "code",
      "source": [
        "create external table route_ext\n",
        "(\n",
        "route_id string,\n",
        "agency_id string,\n",
        "route_short_name string,\n",
        "route_long_name string,\n",
        "route_type string,\n",
        "route_url string,\n",
        "route_color string,\n",
        "route_text_color string,\n",
        "is_night boolean,\n",
        "is_regional boolean,\n",
        "is_substitute_transport boolean\n",
        ")\n",
        "row format delimited\n",
        "fields terminated by ','\n",
        "lines terminated by '\\n'\n",
        "stored as textfile\n",
        "location '/user/debian/hive_02/ext_tables/routes/'\n",
        "tblproperties (\"skip.header.line.count\" = \"1\");\n"
      ],
      "metadata": {
        "id": "MiJC9owbJgR2"
      },
      "execution_count": null,
      "outputs": []
    },
    {
      "cell_type": "markdown",
      "source": [
        "Checkout the data and do some basic queries."
      ],
      "metadata": {
        "id": "reQsXqoUxs4j"
      }
    },
    {
      "cell_type": "code",
      "source": [
        "select * from route_ext limit 10;\n",
        "\n",
        "select count(*) from route_ext;\n",
        "\n",
        "select count(*) from route_ext where route_short_name is NULL;\n"
      ],
      "metadata": {
        "id": "IdRl73VnJo_3"
      },
      "execution_count": null,
      "outputs": []
    },
    {
      "cell_type": "markdown",
      "source": [
        "## 2."
      ],
      "metadata": {
        "id": "itkQG8uxKAoh"
      }
    },
    {
      "cell_type": "markdown",
      "source": [
        "Create Hive Managed table with final datatypes and other properties."
      ],
      "metadata": {
        "id": "JbLP4vVuxzCA"
      }
    },
    {
      "cell_type": "code",
      "source": [
        "create table route\n",
        "(\n",
        "route_id string,\n",
        "agency_id string,\n",
        "route_short_name string,\n",
        "route_long_name string,\n",
        "route_type string,\n",
        "route_url string,\n",
        "route_color string,\n",
        "route_text_color string,\n",
        "is_night boolean,\n",
        "is_regional boolean,\n",
        "is_substitute_transport boolean\n",
        ")\n",
        "stored as parquet\n",
        "tblproperties(\"parquet.compress\"=\"SNAPPY\");"
      ],
      "metadata": {
        "id": "yLxYgiXGJ2F8"
      },
      "execution_count": null,
      "outputs": []
    },
    {
      "cell_type": "markdown",
      "source": [
        "Fill in the final route table."
      ],
      "metadata": {
        "id": "9PF6tkJ7x6GV"
      }
    },
    {
      "cell_type": "code",
      "source": [
        "insert overwrite table route \n",
        "select\n",
        "route_id, agency_id, route_short_name, route_long_name, route_type,\n",
        "route_url, route_color, route_text_color, is_night, is_regional, is_substitute_transport\n",
        "from route_ext;\n"
      ],
      "metadata": {
        "id": "txEmqGZuKCuG"
      },
      "execution_count": null,
      "outputs": []
    },
    {
      "cell_type": "markdown",
      "source": [
        "Do some simple queries.\n",
        "\n",
        "Is the NULL count same for external and internal table?"
      ],
      "metadata": {
        "id": "QrjRY5woyx0B"
      }
    },
    {
      "cell_type": "code",
      "source": [
        "select * from route limit 10;\n",
        "\n",
        "select count(*) from route;\n",
        "\n",
        "select count(*) from route where route_short_name is NULL; "
      ],
      "metadata": {
        "id": "45vY0sBLy3FQ"
      },
      "execution_count": null,
      "outputs": []
    },
    {
      "cell_type": "code",
      "source": [
        "hdfs dfs -du -s -h /user/hive/warehouse/debian.db  --result 74.4 K\n",
        "\n",
        "describe formatted route; --shows in bytes (76139)\n",
        "\n",
        "-- exteranl table size is 82.9K"
      ],
      "metadata": {
        "id": "7_kp-pQQKQu0"
      },
      "execution_count": null,
      "outputs": []
    },
    {
      "cell_type": "markdown",
      "source": [
        "## 3.1 a 3.2."
      ],
      "metadata": {
        "id": "JH8NHYoDKaME"
      }
    },
    {
      "cell_type": "markdown",
      "source": [
        "Create and exteerna table `stop_times_ext`"
      ],
      "metadata": {
        "id": "cC5AJdDVy_bq"
      }
    },
    {
      "cell_type": "code",
      "source": [
        "create external table stop_times_ext\n",
        "    (\n",
        "    trip_id string,\n",
        "    arrival_time string,\n",
        "    departure_time string,\n",
        "    stop_id string,\n",
        "    stop_sequence string,\n",
        "    stop_headsign string,\n",
        "    pickup_type string,\n",
        "    drop_off_type string,\n",
        "    shape_dist_traveled string,\n",
        "    trip_operation_type string,\n",
        "    bikes_allowed string\n",
        "    )\n",
        "    row format delimited\n",
        "    fields terminated by ','\n",
        "    lines terminated by '\\n'\n",
        "    stored as textfile\n",
        "    location '/user/debian/hive_02/ext_tables/stop_times/'\n",
        "    tblproperties (\"skip.header.line.count\"=\"1\");"
      ],
      "metadata": {
        "id": "FtRdrO1E1eYB"
      },
      "execution_count": null,
      "outputs": []
    },
    {
      "cell_type": "markdown",
      "source": [
        "Create a different order of columns than in original CSV file, because hive takes the last column as partition\n",
        "\n",
        "It is not possible to select as table to an external table and partitioned table"
      ],
      "metadata": {
        "id": "HVOKvS-xwz2Y"
      }
    },
    {
      "cell_type": "code",
      "source": [
        "CREATE TABLE IF NOT EXISTS stop_times_ext_correct\n",
        "stored as parquet\n",
        "tblproperties(\"parquet.compress\"=\"SNAPPY\")\n",
        "AS SELECT \n",
        "    arrival_time ,\n",
        "    departure_time ,\n",
        "    stop_id ,\n",
        "    stop_sequence ,\n",
        "    stop_headsign ,\n",
        "    pickup_type ,\n",
        "    drop_off_type ,\n",
        "    shape_dist_traveled ,\n",
        "    trip_operation_type ,\n",
        "    bikes_allowed ,\n",
        "    trip_id \n",
        " from stop_times_ext;"
      ],
      "metadata": {
        "id": "Iu1sNf9lw9bw"
      },
      "execution_count": null,
      "outputs": []
    },
    {
      "cell_type": "markdown",
      "source": [
        "Create the final table with correct datatypes and partition as a last column as well"
      ],
      "metadata": {
        "id": "jiBbvU76xJoH"
      }
    },
    {
      "cell_type": "code",
      "source": [
        "create table stop_times\n",
        "    (\n",
        "    arrival_time string,\n",
        "    departure_time string,\n",
        "    stop_id string,\n",
        "    stop_sequence string,\n",
        "    stop_headsign string,\n",
        "    pickup_type string,\n",
        "    drop_off_type string,\n",
        "    shape_dist_traveled string,\n",
        "    trip_operation_type string,\n",
        "    bikes_allowed boolean\n",
        "    )\n",
        "    partitioned by (trip_id string)\n",
        "    stored as parquet\n",
        "    tblproperties(\"parquet.compress\"=\"SNAPPY\");"
      ],
      "metadata": {
        "id": "A1zxI1ByxRL3"
      },
      "execution_count": null,
      "outputs": []
    },
    {
      "cell_type": "markdown",
      "source": [
        "Verify tables via `DESCRIBE` command."
      ],
      "metadata": {
        "id": "RxEKh0jdzJe1"
      }
    },
    {
      "cell_type": "code",
      "source": [
        "DESCRIBE stop_times;"
      ],
      "metadata": {
        "id": "44cldBIVzOPU"
      },
      "execution_count": null,
      "outputs": []
    },
    {
      "cell_type": "markdown",
      "source": [
        "![image.png](data:image/png;base64,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)"
      ],
      "metadata": {
        "id": "v4opkbUEzTcl"
      }
    },
    {
      "cell_type": "markdown",
      "source": [
        "Fill in the data from the correctly ordered table."
      ],
      "metadata": {
        "id": "ZODUzTwGxT5f"
      }
    },
    {
      "cell_type": "code",
      "source": [
        "insert overwrite table stop_times partition (trip_id)\n",
        "select\n",
        "arrival_time, departure_time, stop_id, stop_sequence,\n",
        "stop_headsign, pickup_type, drop_off_type, shape_dist_traveled, trip_operation_type, bikes_allowed,\n",
        "trip_id\n",
        "from stop_times_ext_correct;\n"
      ],
      "metadata": {
        "id": "_FjSbhOiLt-e"
      },
      "execution_count": null,
      "outputs": []
    },
    {
      "cell_type": "markdown",
      "source": [],
      "metadata": {
        "id": "ckMOqkE1IjaJ"
      }
    }
  ]
}
