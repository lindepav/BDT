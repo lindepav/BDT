{
 "cells": [
  {
   "cell_type": "markdown",
   "metadata": {},
   "source": [
    "# Uživatelské funkce (UDF) v Hive"
   ]
  },
  {
   "cell_type": "markdown",
   "metadata": {},
   "source": [
    "UDF v Hive rozšiřují možnosti vestavěných funkcí. Na webu existuje mnoho stručných návodů, např. [zde](https://community.cloudera.com/t5/Community-Articles/How-to-create-a-custom-UDF-for-Hive-using-Python/ta-p/248486) nebo [zde](https://dwgeek.com/hive-udf-using-python-use-python-script-into-hive-example.html/).  \n",
    "Pomůže i [referenční příručka Hive](https://cwiki.apache.org/confluence/display/Hive/LanguageManual+Cli#LanguageManualCli-HiveResources). Zde uvádíme jednoduchý příklad **UDF v Pythonu** rozběhaný na Metacentru (prosinec 2020)."
   ]
  },
  {
   "cell_type": "markdown",
   "metadata": {},
   "source": [
    "## Postup\n",
    "1. Vytvořit kód v Pythonu a uložit do souboru.\n",
    "1. Nahrát soubor na HDFS, přidělit tam k souboru práva na čtení a spuštění pro kohokoliv (755).\n",
    "1. Spustit konzolu Hive (beeline) a přidat soubor jako resource.\n",
    "1. Použít přidaný soubor v dotazu příkazem SELECT TRANSFORM."
   ]
  },
  {
   "cell_type": "code",
   "execution_count": null,
   "metadata": {},
   "outputs": [],
   "source": []
  },
  {
   "cell_type": "markdown",
   "metadata": {},
   "source": [
    "## Příklad\n",
    "Napíšeme funkci, která pro sloupec typu *string* vrátí z každého řetězce jen první dva znaky, tj. funguje podobně jako `substring`.\n",
    "### Kód Pythonu\n",
    "`hive-pokus.py`"
   ]
  },
  {
   "cell_type": "code",
   "execution_count": null,
   "metadata": {},
   "outputs": [],
   "source": [
    "import sys\n",
    "for line in sys.stdin:\n",
    "    line2 = line[0:2]\n",
    "    print(str(line2))\n"
   ]
  },
  {
   "cell_type": "markdown",
   "metadata": {},
   "source": [
    "### Nahrání na HDFS\n",
    "```\n",
    "hdfs dfs -put hive-pokus.py src\n",
    "hdfs dfs -chmod 755 src/hive-pokus.py\n",
    "```\n",
    "\n",
    "### Spuštění Hive (beeline) a registrace souboru jako resource\n",
    "```\n",
    "beeline -u \"jdbc:hive2://hador-c1.ics.muni.cz:10000/fel_bigdata;principal=hive/hador-c1.ics.muni.cz@ICS.MUNI.CZ\"\n",
    "ADD FILE hdfs:///user/pascepet/src/hive-pokus.py; -- měla by se vrátit informační hláška o přidání resource\n",
    "LIST FILES; -- kontrola přidaných resources\n",
    "```\n",
    "\n",
    "### Využití v dotazu\n",
    "V odkazu na resource je potřeba **spustit interpreta** (python3) a zadat **název souboru bez cesty**.\n",
    "\n",
    "```\n",
    "SELECT TRANSFORM (team_full) USING 'python3 hive-pokus.py' AS team2\n",
    "FROM nhl_teams\n",
    "LIMIT 5;\n",
    "```"
   ]
  }
 ],
 "metadata": {
  "kernelspec": {
   "display_name": "Python 3",
   "language": "python",
   "name": "python3"
  },
  "language_info": {
   "codemirror_mode": {
    "name": "ipython",
    "version": 3
   },
   "file_extension": ".py",
   "mimetype": "text/x-python",
   "name": "python",
   "nbconvert_exporter": "python",
   "pygments_lexer": "ipython3",
   "version": "3.8.3"
  }
 },
 "nbformat": 4,
 "nbformat_minor": 4
}
