{
 "cells": [
  {
   "cell_type": "markdown",
   "metadata": {},
   "source": [
    "# User defined funcions (UDF) in Hive"
   ]
  },
  {
   "cell_type": "markdown",
   "metadata": {},
   "source": [
    "UDF in Hive enriches the possibilities of built-in functions. There are many tutorials on the web, e.g. [here](https://community.cloudera.com/t5/Community-Articles/How-to-create-a-custom-UDF-for-Hive-using-Python/ta-p/248486) or [here](https://dwgeek.com/hive-udf-using-python-use-python-script-into-hive-example.html/).  \n",
    "The [Hive Reference Manual](https://cwiki.apache.org/confluence/display/Hive/LanguageManual+Cli#LanguageManualCli-HiveResources) is also helpful. There is a simple example of **UDF in Python** developed on Metacenter (December 2020).\n",
    "\n"
   ]
  },
  {
   "cell_type": "markdown",
   "metadata": {},
   "source": [
    "## Instructions\n",
    "1. Create the code in Python and save it to a file.\n",
    "1. Upload the file to HDFS, assign read and execute rights to the file there for anyone (755).\n",
    "1. Run the Hive console (beeline) and add the file as a resource.\n",
    "1. Use the added file in a query with SELECT TRANSFORM.\n"
   ]
  },
  {
   "cell_type": "code",
   "execution_count": null,
   "metadata": {},
   "outputs": [],
   "source": []
  },
  {
   "cell_type": "markdown",
   "metadata": {},
   "source": [
    "## Example\n",
    "Let's write a function that returns only the first two characters of each string for a column of type *string*, i.e. it works like `substring`. Use `python3`\n",
    "### Python code\n",
    "`hive-pokus.py`"
   ]
  },
  {
   "cell_type": "code",
   "execution_count": null,
   "metadata": {},
   "outputs": [],
   "source": [
    "import sys\n",
    "for line in sys.stdin:\n",
    "    line2 = line[0:2]\n",
    "    print(str(line2))\n"
   ]
  },
  {
   "cell_type": "markdown",
   "metadata": {},
   "source": [
    "###  Uploading to HDFS\n",
    "```\n",
    "hdfs dfs -mkdir src\n",
    "hdfs dfs -put hive-pokus.py src\n",
    "hdfs dfs -chmod 755 src/hive-pokus.py\n",
    "```\n",
    "\n",
    "### Start Hive (beeline) and register the file as a resource, call `hive` command\n",
    "### Use following hive commands, get your IP address
    "```\n",
    "ADD FILE hdfs://172.16.102.123:8020/user/debian/src/pokus.py; -- should return an informational message about adding the resource\n",
    "LIST FILES; -- check for added resources\n",
    "```\n",
    "\n",
    "### Usage in query\n",
    "In the resource reference, you need to **run the interpreter** (python3) and specify **filename without path**.\n",
    "```\n",
    "SELECT TRANSFORM (team_full) USING 'python3 hive-pokus.py' AS team2\n",
    "FROM nhl_teams\n",
    "LIMIT 5;\n",
    "```"
   ]
  }
 ],
 "metadata": {
  "kernelspec": {
   "display_name": "Python 3.9.13 64-bit (microsoft store)",
   "language": "python",
   "name": "python3"
  },
  "language_info": {
   "codemirror_mode": {
    "name": "ipython",
    "version": 3
   },
   "file_extension": ".py",
   "mimetype": "text/x-python",
   "name": "python",
   "nbconvert_exporter": "python",
   "pygments_lexer": "ipython3",
   "version": "3.9.13"
  },
  "vscode": {
   "interpreter": {
    "hash": "72ce3b0a56a865d480673a9187eace210a751ef3304bdc5d2817c20bdd65e6d9"
   }
  }
 },
 "nbformat": 4,
 "nbformat_minor": 4
}
