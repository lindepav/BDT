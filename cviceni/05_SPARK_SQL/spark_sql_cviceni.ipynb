{
 "cells": [
  {
   "cell_type": "markdown",
   "metadata": {},
   "source": [
    "### Spuštění PySpark\n",
    "\n",
    "`export PYSPARK_PYTHON=python3`  \n",
    "`pyspark --master yarn --num-executors 2 --executor-memory 4G --conf spark.ui.port=1<ddmm>`, kde `<ddmm>` je váš den a měsíc narození, např. `spark.ui.port=10811`"
   ]
  },
  {
   "cell_type": "code",
   "execution_count": null,
   "metadata": {},
   "outputs": [],
   "source": [
    "# helpfull import\n",
    "from pyspark.sql import functions as F"
   ]
  },
  {
   "cell_type": "markdown",
   "metadata": {},
   "source": [
    "### 0. Spark SQL in examples\n",
    "\n",
    "Go through the file with simple examples `spark_sql_elementary.ipynb`."
   ]
  },
  {
   "cell_type": "markdown",
   "metadata": {},
   "source": [
    "### 1. Load dat and basic exploration\n",
    "\n",
    "#### Data\n",
    "\n",
    "File contains information about trips\n",
    "\n",
    "* format: CSV\n",
    "* path: `hive_02/PID_GTFS/` (copy to spark_05/PID_GTFS/trips.txt if desired, from previous exercise)\n",
    "* separator: `','`\n",
    "* header: yes\n",
    "\n",
    "1.1 Load the file into the DataFrame (with automatic schema derivation) and assign the correct field names to the columns.\n",
    "\n",
    "1.2 Cache the file in memory.\n",
    "\n",
    "1.3 Write out a sample of the data.\n",
    "\n",
    "1.4 Write out a basic exploration of the data.\n",
    "\n",
    "1.5 Find out the total number of records (rows) in the DataFrame. *(72 530)*\n",
    "\n",
    "1.6 Find out how many unique routes are there. *(816)*\n",
    "\n",
    "1.7 Find out the lowest and highest route number are there. *(1, 997)*\n",
    "\n",
    "1.8 Find out the number of trips for both direction for route L1. *(210,211)*\n",
    "\n",
    "1.9 Find out a count of night trips. *()*\n",
    "\n",
    "1.10 Create a temporary table from the DataFrame and try to do 1.5&ndash;1.8 using SQL.\n",
    "\n",
    "\n"
   ]
  },
  {
   "cell_type": "markdown",
   "metadata": {},
   "source": [
    "### 2. Data adjustment and cleaning\n",
    "\n",
    "Download lyrics from https://drive.google.com/file/d/1BVnKff4Pej-iL7uwnUGCwHexGFi7h7fU/view?usp=sharing \n",
    "and stopwords from  https://github.com/profinit/BDT/tree/master/cviceni/05_SPARK_SQL/data/stopwords.txt. \n",
    "\n",
    "Transfer the files to hdfs to `/your_user/spark_05/`.\n",
    "\n",
    "\n",
    "2.1 Exclude all records that have a year listed outside the 1950--2018 range. Determine how many records remain in the DataFrame. *(362 221)*\n",
    "\n",
    "\n",
    "2.2 Edit the lyrics as follows:  \n",
    "* Replace missing values in the lyrics column with empty strings.\n",
    "* Convert the text to lower case.\n",
    "* Replace all non-alphanumeric characters with a space.\n",
    "* Replace multiple space sequences with a single space.\n",
    "* Omit spaces on both edges of the text (*trim* function).  \n",
    "For details on regular expressions, see [Python manual](https://docs.python.org/3.7/library/re.html).\n",
    "\n",
    "2.3 Add a `words_poc` column to the DataFrame containing the number of all words in the song. The words are separated by spaces in the text. Check if the word count is 0 for songs with an empty `text` field, and if not, correct the word count to 0 in such cases.\n",
    "\n",
    "2.4 Cache the resulting DataFrame again."
   ]
  },
  {
   "cell_type": "markdown",
   "metadata": {},
   "source": [
    "### 3. Analytical questions\n",
    "\n",
    "3.1 Find out how many artists have at least 500 songs and who they are. Create a separate DataFrame for these artists, use it in Assignment 4.3. *(19; Bob Dylan 614, Chris Brown 655, etc.)*\n",
    "\n",
    "3.2 Considering only songs with non-empty lyrics (i.e., word counts greater than 0), which artist with at least 100 such songs has the highest average number of words per song? *(eightball-mjg 627.9)*"
   ]
  },
  {
   "cell_type": "markdown",
   "metadata": {},
   "source": [
    "### 4. Text-mining\n",
    "\n",
    "4.1 Find the 20 most frequently occurring words of at least two characters in song lyrics. (Count each word as many times as it appears in the text. Here it is useful to process the DataFrame using RDD transformations.)  \n",
    "*((('the', 2031323), ('you', 1988108), ('to', 1181200), ('and', 1153519), ('it', 910863), ..., ('no', 313002))*  \n",
    "\n",
    "<br>\n",
    "Then find the 20 most frequently occurring at least two-character words, excluding stop-words. The stopwords file is on HDFS: `/your_user/spark_05/stopwords.txt`\n",
    "\n",
    "*((('can', 354989), ('love', 310137), ('don', 308914), ('know', 291913), ('like', 283256), ..., ('let', 159781))*\n",
    "\n",
    "<br>\n",
    "4.2 Choose three of your choice from the set of most frequent non-stop-words. Add three columns to the DataFrame (one column for each word) with a True/False flag to indicate whether the word is mentioned at least once in the song.\n",
    "\n",
    "<br>\n",
    "4.3 For performers with at least 500 songs (see 3.1), find out what proportion of their songs contain the three common words you selected from Assignment 4.2.\n",
    "\n",
    "| interpreter| avg(is_like)| avg(is_know)| avg(is_love)|\n",
    "|-----------------|-------------|-------------|-------------|\n",
    "| b-b-king|0.248875565 |0.413793103 |0.40479760 |\n",
    "| barbra-streisand|0.334935897 |0.384615384 |0.48237179 |\n",
    "| bee-gees|0.302170283 |0.472454090 |0.64440734 |\n",
    "| etc. | ... | ... | ... | ... |"
   ]
  }
 ],
 "metadata": {
  "kernelspec": {
   "display_name": "Python 3 (ipykernel)",
   "language": "python",
   "name": "python3"
  },
  "language_info": {
   "codemirror_mode": {
    "name": "ipython",
    "version": 3
   },
   "file_extension": ".py",
   "mimetype": "text/x-python",
   "name": "python",
   "nbconvert_exporter": "python",
   "pygments_lexer": "ipython3",
   "version": "3.7.9"
  },
  "vscode": {
   "interpreter": {
    "hash": "72ce3b0a56a865d480673a9187eace210a751ef3304bdc5d2817c20bdd65e6d9"
   }
  }
 },
 "nbformat": 4,
 "nbformat_minor": 4
}
