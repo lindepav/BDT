{
 "cells": [
  {
   "cell_type": "markdown",
   "metadata": {},
   "source": [
    "Cílem supercvičení je:\n",
    "\n",
    "* procvičit ovládání obou filesystemů Hadoopu z příkazové řádky\n",
    "* procvičit náročnější příkazy Linuxu\n",
    "* procvičit základní SQL příkazy (vytvoření a naplnění tabulky, jednoduché dotazování)\n",
    "* procvičit joinování tabulek a agregační příkazy SQL\n",
    "* procvičit základní příkazy Pythonu (typ list, manipulace se stringy, definice funkce, if-else)\n",
    "\n",
    "Nutnou podmínkou je vyřízený přístup na [Metacentrum](https://www.metacentrum.cz/cs/Sluzby/Hadoop/) a samozřejmě internetové připojení."
   ]
  },
  {
   "cell_type": "markdown",
   "metadata": {},
   "source": [
    "##  Přihlášení\n",
    "```bash\n",
    "ssh username@hador.ics.muni.cz\n",
    "```"
   ]
  },
  {
   "cell_type": "markdown",
   "metadata": {},
   "source": [
    "# Lokální filesystem\n",
    "1. Ve svém uživatelském adresáři si založte podadresář `data`.\n",
    "2. Pro složku `data` povolte read/write/execute pro vlastníka a grupu, pro ostatní nastavte read/execute.\n",
    "3. Z adresáře `/home/pascepet/fel_bigdata/data` si do podadresáře `data` ve svém uživatelském adresáři zkopírujte soubory `stopwords.txt` a `bible-kjv.zip`. Dále pracujte ve svém uživatelském adresáři, v podadresáři `data`.\n",
    "4. Pro soubor `stopwords.txt` povolte read/write pro vlastníka, read pro grupu a nic pro ostatní.\n",
    "5. Vypište na obrazovku několik prvních řádků souboru `stopwords.txt`.\n",
    "6. Kolik řádků má soubor `stopwords.txt` celkem? Kolik z nich obsahuje text 'on'?\n",
    "7. Rozbalte soubor `bible-kjv.zip` (do stejného adresáře, v jakém je). Zjistěte, který soubor ze ZIPu vznikl, a odhadněte, jaký byl kompresní poměr.\n",
    "\n",
    "# HDFS\n",
    "8. Ve svém uživatelském adresáři na HDFS si založte podadresář `data`.\n",
    "9. Pro podadresář `data` povolte read/write/execute pro vlastníka a grupu, pro ostatní nastavte read/execute.\n",
    "10. Ze svého uživatelského adresáře na lokálním FS (podadresář `data`) zkopírujte na HDFS do vašeho právě založeného podadresáře `data` soubor `bible.txt` (vznikl rozbalením `bible-kjv.zip`).\n",
    "11. Pro soubor `bible.txt` (na HDFS) povolte read/write pro vlastníka, read pro grupu a nic pro ostatní.\n",
    "12. Zjistěte, kolik řádků má soubor `bible.txt` na HDFS, a vypište na obrazovku několik prvních řádků.\n",
    "13. Zjistěte, jaký je replikační faktor HDFS."
   ]
  },
  {
   "cell_type": "markdown",
   "metadata": {},
   "source": [
    "## Pokročilejší použití Linuxu a regulární výrazy\n",
    "Budeme pracovat na lokálním filesystemu v podadresáři `data` vašeho uživatelského adresáře.\n",
    "14. Všechny řádky souboru `stopwords.txt` začínající písmenem 'a', za kterým následuje aspoň jeden další znak, vyexportujte do souboru `a.txt`.\n",
    "15. Zjistěte, kolik řádků souboru `bible.txt` obsahuje slovo 'Cain' nebo slovo 'Abel'.\n",
    "16. Zjistěte, kolik řádků souboru `bible.txt` obsahuje slovo 'Jesus', ale přitom řádek nezačíná slovem 'John'.\n",
    "17. Najděte, které slovo (řetězec pouze z velkých nebo malých písmen) je v Bibli nejdelší. (Můžete postupovat i iterativně.)"
   ]
  },
  {
   "cell_type": "code",
   "execution_count": null,
   "outputs": [],
   "source": [],
   "metadata": {
    "collapsed": false
   }
  }
 ],
 "metadata": {
  "kernelspec": {
   "display_name": "Python 3",
   "language": "python",
   "name": "python3"
  },
  "language_info": {
   "codemirror_mode": {
    "name": "ipython",
    "version": 3
   },
   "file_extension": ".py",
   "mimetype": "text/x-python",
   "name": "python",
   "nbconvert_exporter": "python",
   "pygments_lexer": "ipython3",
   "version": "3.7.0"
  }
 },
 "nbformat": 4,
 "nbformat_minor": 2
}
