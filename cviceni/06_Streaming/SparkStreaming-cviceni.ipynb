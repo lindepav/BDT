{
 "cells": [
  {
   "cell_type": "markdown",
   "metadata": {},
   "source": [
    "# Rozchozeni zakladniho Spark Structured Streaming prikladu\n",
    "\n",
    "1. Zkopirovat na klaster soubor `spark_streaming_demo.py`\n",
    "2. Pripojit se na klaster v terminalu-1 a spustit `nc -lk 5ddmm`, kde `ddmm` je vas datum narozeni \n",
    "\n",
    "3. Otevrete druhy terminal a spustite priklad pomoci prikazu `spark-submit --master yarn --conf spark.sql.shuffle.partitions=2 --num-executors 2 --conf spark.ui.enabled=false spark_streaming_demo.py hador.ics.muni.cz 5ddmm`\n",
    "\n",
    "4. Muzete zacit psat zpravy do terminalu-1\n",
    "\n",
    "5. Upravit priklad tak aby vypisoval slova delsi nez 5 znaku a nerozlisoval velka a mala pismena\n"
   ]
  },
  {
   "source": [
    "# Samostatne ulohy \n",
    "\n",
    "I. \n",
    "1. Nacist seznam stop slov jako dataframe z `/user/pascepet/data/stopwords.txt`\n",
    "2. Spojit stream slov s dataframe stop slov \n",
    "3. Do konzole vypisovat cetnosti slov, ktere nejsou v dataframe stop slov \n",
    "\n",
    "II.\n",
    "1. Misto odfiltrovani stop slov, upravit priklad tak aby stream pocital vsechna stop slova jako jednu slovo (\"stopword\")\n",
    "\n",
    "Napr. pro radek \"This is an hello world example\" \n",
    "\n",
    "Vypise:\n",
    "\n",
    "| word     | count |\n",
    "|--- | --- |\n",
    "| example  |    1 |\n",
    "| hello | 1 |\n",
    "| world | 1 |\n",
    "| stopwrod |    3 |\n",
    "\n",
    "III.\n",
    "1. Misto zapisu do konzole pouzit [File Sink](https://spark.apache.org/docs/latest/structured-streaming-programming-guide.html#output-sinks)\n"
   ],
   "cell_type": "markdown",
   "metadata": {}
  }
 ],
 "metadata": {
  "kernelspec": {
   "display_name": "Python 3",
   "language": "python",
   "name": "python3"
  },
  "language_info": {
   "codemirror_mode": {
    "name": "ipython",
    "version": 3
   },
   "file_extension": ".py",
   "mimetype": "text/x-python",
   "name": "python",
   "nbconvert_exporter": "python",
   "pygments_lexer": "ipython3",
   "version": "3.7.3"
  }
 },
 "nbformat": 4,
 "nbformat_minor": 2
}