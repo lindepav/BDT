{
 "cells": [
  {
   "cell_type": "markdown",
   "metadata": {},
   "source": [
    "Cílem úvodního cvičení je:\n",
    "\n",
    "* vyzkoušet, že funguje připojení na výpočetní cluster\n",
    "* seznámit se s dvěma souborovými systémy a prostupem mezi nimi\n",
    "* vyzkoušet, že funguje spuštění Hive a Sparku\n",
    "\n",
    "Nutnou podmínkou je vyřízený přístup na [Metacentrum](https://www.metacentrum.cz/cs/Sluzby/Hadoop/) a samozřejmě internetové připojení."
   ]
  },
  {
   "cell_type": "markdown",
   "metadata": {},
   "source": [
    "##  Přihlášení\n",
    "```bash\n",
    "ssh username@hador.ics.muni.cz\n",
    "```\n",
    "\n",
    "## Filesystem edge node (lokální) a HDFS\n",
    "1. Po přihlášení se nacházíte v uživatelském adresáři na *edge nodu*, který používá linuxový operační systém. Zjistěte si jeho polohu ve stromové struktuře adresářů (příkazem `pwd`) a vypište si jeho obsah (příkazem `ls` -- měl by být prázdný).\n",
    "2. Vypište si obsah svého uživatelského adresáře na HDFS příkazem `hdfs dfs -ls` (měl by být také prázdný).\n",
    "3. Mezi souborovým systémem edge nodu (budeme ho nazývat *lokální*) a HDFS lze přenášet soubory a adresáře.    \n",
    "Z adresáře `/home/pascepet/fel_bigdata/data` si do svého uživatelského adresáře na HDFS zkopírujte soubor `iris.csv`\n",
    "  - `hdfs dfs -put /home/pascepet/fel_bigdata/data/iris.csv .`\n",
    "* Ze svého uživatelského adresáře na HDFS překopírujte stejný soubor do svého uživatelského adresáře na lokálním FS\n",
    "  - `hdfs dfs -get iris.csv .`\n",
    "4. Znovu si prohlédněte obsah svých uživatelských adresářů na edge nodu (lokální FS) a na HDFS -- viz body 1 a 2.\n",
    "5. Soubor iris.csv smažte z uživatelských adresářů na obou systémech.\n",
    "  - `rm iris.csv`\n",
    "  - `hdfs dfs -rm iris.csv`\n",
    "\n",
    "\n",
    "## Hive a Spark\n",
    "* Vyzkoušejte spuštění Hive, výpis existujících databází a ukončení Hive:\n",
    "  - `beeline -u \"jdbc:hive2://hador-c1.ics.muni.cz:10000/default;principal=hive/hador-c1.ics.muni.cz@ICS.MUNI.CZ\"`\n",
    "  - `show databases;` -- středník je důležitý\n",
    "  - `!q`\n",
    "* Vyzkoušejte spuštění Sparku s API Python (PySpark) a ukončení:\n",
    "  - `pyspark --master yarn`\n",
    "  - `exit()`"
   ]
  },
  {
   "cell_type": "code",
   "execution_count": null,
   "outputs": [],
   "source": [],
   "metadata": {
    "collapsed": false
   }
  }
 ],
 "metadata": {
  "kernelspec": {
   "display_name": "Python 3",
   "language": "python",
   "name": "python3"
  },
  "language_info": {
   "codemirror_mode": {
    "name": "ipython",
    "version": 3
   },
   "file_extension": ".py",
   "mimetype": "text/x-python",
   "name": "python",
   "nbconvert_exporter": "python",
   "pygments_lexer": "ipython3",
   "version": "3.7.0"
  }
 },
 "nbformat": 4,
 "nbformat_minor": 2
}
